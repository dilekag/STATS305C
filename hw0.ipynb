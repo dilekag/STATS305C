{
 "cells": [
  {
   "attachments": {},
   "cell_type": "markdown",
   "metadata": {},
   "source": [
    "# HW0: PyTorch Primer\n",
    "\n",
    "We'll use Python and [PyTorch](https://pytorch.org/) for the assignments in this course. This lab is to help you get up to speed. It will introduce:\n",
    "- **Tensors**: PyTorch's equivalent of NumPy arrays, but with more bells and whistles for running on GPUs and supporting automatic differentiation.\n",
    "- **Broadcasting and Fancy Indexing**: If you're coming from Matlab or NumPy, you probably know that you can avoid costly for-loops by broadcasting computation over dimensions of an array (here, tensor) and using fancy indexing tricks. \n",
    "- **Distributions**: PyTorch has an excellent library of distributions for sampling, evaluating log probabilities, and much more. \n"
   ]
  },
  {
   "cell_type": "code",
   "execution_count": 1,
   "metadata": {
    "ExecuteTime": {
     "start_time": "2023-04-06T12:05:40.440478Z",
     "end_time": "2023-04-06T12:05:42.796689Z"
    }
   },
   "outputs": [],
   "source": [
    "import torch\n",
    "import numpy as np\n",
    "import torch.distributions as dist\n",
    "import matplotlib.pyplot as plt"
   ]
  },
  {
   "attachments": {},
   "cell_type": "markdown",
   "metadata": {},
   "source": [
    "## 1. Constructing Tensors\n",
    "\n",
    "Tensors are PyTorch's equivalent of NumPy arrays. The PyTorch documentation already has a [great tutorial](https://pytorch.org/tutorials/beginner/basics/tensorqs_tutorial.html) on tensors. Rather than recreate the wheel, please start by reading that.\n",
    "\n",
    "Once you've read through that, try using torch functions like `arange`, `reshape`, etc. to construct the following tensors."
   ]
  },
  {
   "attachments": {},
   "cell_type": "markdown",
   "metadata": {},
   "source": [
    "### Problem 1.1\n",
    "\n",
    "Construct the following tensor:\n",
    "\n",
    "```\n",
    "tensor([[0, 1, 2],\n",
    "        [3, 4, 5],\n",
    "        [6, 7, 8]])\n",
    "```\n",
    "\n",
    "_Note: For this problems and the ones below, don't literally construct the tensor from the specified list. Use torch functions._\n",
    "\n",
    "---"
   ]
  },
  {
   "cell_type": "code",
   "execution_count": 10,
   "metadata": {
    "ExecuteTime": {
     "start_time": "2023-04-05T12:31:06.980919Z",
     "end_time": "2023-04-05T12:31:06.989822Z"
    }
   },
   "outputs": [
    {
     "data": {
      "text/plain": "tensor([[0, 1, 2],\n        [3, 4, 5],\n        [6, 7, 8]])"
     },
     "execution_count": 10,
     "metadata": {},
     "output_type": "execute_result"
    }
   ],
   "source": [
    "mat1 = torch.arange(0,9,1).reshape(3,3)\n",
    "mat1"
   ]
  },
  {
   "attachments": {},
   "cell_type": "markdown",
   "metadata": {},
   "source": [
    "### Problem 1.2\n",
    "\n",
    "Construct the following tensor:\n",
    "\n",
    "```\n",
    "tensor([[0, 3, 6],\n",
    "        [1, 4, 7],\n",
    "        [2, 5, 8]])\n",
    "```\n",
    "\n",
    "---"
   ]
  },
  {
   "cell_type": "code",
   "execution_count": 11,
   "metadata": {
    "ExecuteTime": {
     "start_time": "2023-04-05T12:32:17.996495Z",
     "end_time": "2023-04-05T12:32:18.010538Z"
    }
   },
   "outputs": [
    {
     "data": {
      "text/plain": "tensor([[0, 3, 6],\n        [1, 4, 7],\n        [2, 5, 8]])"
     },
     "execution_count": 11,
     "metadata": {},
     "output_type": "execute_result"
    }
   ],
   "source": [
    "torch.transpose(mat1,0,1)"
   ]
  },
  {
   "attachments": {},
   "cell_type": "markdown",
   "metadata": {},
   "source": [
    "### Problem 1.3\n",
    "\n",
    "Construct the following tensor:\n",
    "\n",
    "```\n",
    "tensor([0, 1, 2, 3, 4, 0, 1, 2, 3, 4, 0, 1, 2, 3, 4])\n",
    "```\n",
    "\n",
    "_Note: Here the sequence is repeated 3 times. Does your code support arbitrary numbers of repeats?_\n",
    "\n",
    "---"
   ]
  },
  {
   "cell_type": "code",
   "execution_count": 16,
   "metadata": {
    "ExecuteTime": {
     "start_time": "2023-04-05T12:42:14.062798Z",
     "end_time": "2023-04-05T12:42:14.068503Z"
    }
   },
   "outputs": [
    {
     "data": {
      "text/plain": "tensor([0, 1, 2, 3, 4, 0, 1, 2, 3, 4, 0, 1, 2, 3, 4])"
     },
     "execution_count": 16,
     "metadata": {},
     "output_type": "execute_result"
    }
   ],
   "source": [
    "n=3\n",
    "array1 = torch.arange(0,5,1)\n",
    "array1.repeat(n)"
   ]
  },
  {
   "attachments": {},
   "cell_type": "markdown",
   "metadata": {},
   "source": [
    "### Problem 1.4\n",
    "\n",
    "Construct the following tensor:\n",
    "\n",
    "```\n",
    "tensor([[0, 1, 2, 3, 4],\n",
    "        [0, 1, 2, 3, 4],\n",
    "        [0, 1, 2, 3, 4]])\n",
    "```\n",
    "\n",
    "---"
   ]
  },
  {
   "cell_type": "code",
   "execution_count": 19,
   "metadata": {
    "ExecuteTime": {
     "start_time": "2023-04-05T12:42:46.085707Z",
     "end_time": "2023-04-05T12:42:46.093214Z"
    }
   },
   "outputs": [
    {
     "data": {
      "text/plain": "tensor([[0, 1, 2, 3, 4],\n        [0, 1, 2, 3, 4],\n        [0, 1, 2, 3, 4]])"
     },
     "execution_count": 19,
     "metadata": {},
     "output_type": "execute_result"
    }
   ],
   "source": [
    "array1.repeat(n,1)"
   ]
  },
  {
   "attachments": {},
   "cell_type": "markdown",
   "metadata": {},
   "source": [
    "### Problem 1.5\n",
    "\n",
    "Construct the following tensor:\n",
    "\n",
    "```\n",
    "tensor([[ 1., -2.,  0.,  0.],\n",
    "        [-2.,  1., -2.,  0.],\n",
    "        [ 0., -2.,  1., -2.],\n",
    "        [ 0.,  0., -2.,  1.]])\n",
    "```\n",
    "\n",
    "---"
   ]
  },
  {
   "cell_type": "code",
   "execution_count": 59,
   "metadata": {
    "ExecuteTime": {
     "start_time": "2023-04-05T15:56:44.361743Z",
     "end_time": "2023-04-05T15:56:44.375845Z"
    }
   },
   "outputs": [
    {
     "data": {
      "text/plain": "tensor([[ 1., -2.,  0.,  0.],\n        [-2.,  1., -2.,  0.],\n        [ 0., -2.,  1., -2.],\n        [ 0.,  0., -2.,  1.]])"
     },
     "execution_count": 59,
     "metadata": {},
     "output_type": "execute_result"
    }
   ],
   "source": [
    "n=4\n",
    "identity = torch.eye(n)\n",
    "shift_left = -2*torch.roll(identity,-1)\n",
    "shift_left[n-1,n-1]=0\n",
    "shift_left+torch.transpose(shift_left,0,1)+identity"
   ]
  },
  {
   "attachments": {},
   "cell_type": "markdown",
   "metadata": {},
   "source": [
    "### Problem 1.6\n",
    "\n",
    "Construct the following tensor:\n",
    "\n",
    "```\n",
    "tensor([[[[0, 1, 2]]]])\n",
    "```\n",
    "\n",
    "---"
   ]
  },
  {
   "cell_type": "code",
   "execution_count": 9,
   "metadata": {
    "ExecuteTime": {
     "start_time": "2023-04-06T12:07:42.946694Z",
     "end_time": "2023-04-06T12:07:42.958711Z"
    }
   },
   "outputs": [
    {
     "data": {
      "text/plain": "tensor([[[0, 1, 2]]])"
     },
     "execution_count": 9,
     "metadata": {},
     "output_type": "execute_result"
    }
   ],
   "source": [
    "x = torch.arange(3)\n",
    "x.reshape(1,1,3)\n",
    "# alternate way: torch.arange(3)[None, None, :]"
   ]
  },
  {
   "attachments": {},
   "cell_type": "markdown",
   "metadata": {},
   "source": [
    "## 2. Broadcasting and Fancy Indexing\n",
    "\n",
    "Your life will be much easier and your code will be much faster once you get the hang of broadcasting and indexing. Start by reading the  [PyTorch documentation](https://pytorch.org/docs/stable/notes/broadcasting.html)."
   ]
  },
  {
   "attachments": {},
   "cell_type": "markdown",
   "metadata": {},
   "source": [
    "### Problem 2.1\n",
    "\n",
    "Construct a tensor `X` where `X[i,j] = i + j` by broadcasting a sum of two 1-dimensional tensors.\n",
    "\n",
    "For example, broadcast a sum to construct the following tensor, \n",
    "\n",
    "```\n",
    "tensor([[0, 1, 2],\n",
    "        [1, 2, 3],\n",
    "        [2, 3, 4],\n",
    "        [3, 4, 5]])\n",
    "```        \n",
    "\n",
    "---"
   ]
  },
  {
   "cell_type": "code",
   "execution_count": 80,
   "metadata": {
    "ExecuteTime": {
     "start_time": "2023-04-05T18:13:15.568287Z",
     "end_time": "2023-04-05T18:13:15.595404Z"
    }
   },
   "outputs": [
    {
     "data": {
      "text/plain": "tensor([[0, 1, 2],\n        [1, 2, 3],\n        [2, 3, 4],\n        [3, 4, 5]])"
     },
     "execution_count": 80,
     "metadata": {},
     "output_type": "execute_result"
    }
   ],
   "source": [
    "x = torch.tensor([[0,1,2]])\n",
    "y = torch.tensor([[0],[1],[2],[3]])\n",
    "x+y"
   ]
  },
  {
   "attachments": {},
   "cell_type": "markdown",
   "metadata": {},
   "source": [
    "### Problem 2.2\n",
    "\n",
    "Compute a distance matrix `D` where `D[i,j]` is the Euclidean distance between `X[i]` and `X[j]`, with\n",
    "\n",
    "```\n",
    "X = torch.arange(10, dtype=float).reshape(5, 2)\n",
    "```\n",
    "\n",
    "Your answer should be,\n",
    "\n",
    "```\n",
    "tensor([[ 0.0000,  2.8284,  5.6569,  8.4853, 11.3137],\n",
    "        [ 2.8284,  0.0000,  2.8284,  5.6569,  8.4853],\n",
    "        [ 5.6569,  2.8284,  0.0000,  2.8284,  5.6569],\n",
    "        [ 8.4853,  5.6569,  2.8284,  0.0000,  2.8284],\n",
    "        [11.3137,  8.4853,  5.6569,  2.8284,  0.0000]])\n",
    "```        \n",
    "\n",
    "---"
   ]
  },
  {
   "cell_type": "code",
   "execution_count": 129,
   "metadata": {
    "ExecuteTime": {
     "start_time": "2023-04-05T21:34:20.771190Z",
     "end_time": "2023-04-05T21:34:20.789379Z"
    }
   },
   "outputs": [
    {
     "data": {
      "text/plain": "tensor([[0.],\n        [2.],\n        [4.],\n        [6.],\n        [8.]], dtype=torch.float64)"
     },
     "execution_count": 129,
     "metadata": {},
     "output_type": "execute_result"
    }
   ],
   "source": [
    "X = torch.arange(10, dtype=float).reshape(5, 2)\n",
    "first = X[:,0].reshape(5,1)\n",
    "second = X[...,1].reshape(5,1)\n",
    "torch.sqrt((second.reshape(5,1) - second.reshape(1,5))**2 + (first.reshape(5,1) - first.reshape(1,5))**2)"
   ]
  },
  {
   "attachments": {},
   "cell_type": "markdown",
   "metadata": {},
   "source": [
    "### Problem 2.3 \n",
    "\n",
    "Extract the submatrix of rows `[2,3]` and columns `[0,1,4]` of the tensor,\n",
    "```\n",
    "A = torch.arange(25).reshape(5, 5)\n",
    "```\n",
    "\n",
    "Your answer should be,\n",
    "```\n",
    "tensor([[10, 11, 14],\n",
    "        [15, 16, 19]])\n",
    "```\n",
    "\n",
    "---"
   ]
  },
  {
   "cell_type": "code",
   "execution_count": 106,
   "metadata": {
    "ExecuteTime": {
     "start_time": "2023-04-05T18:43:21.085964Z",
     "end_time": "2023-04-05T18:43:21.095051Z"
    }
   },
   "outputs": [
    {
     "data": {
      "text/plain": "tensor([[10, 11, 14],\n        [15, 16, 19]])"
     },
     "execution_count": 106,
     "metadata": {},
     "output_type": "execute_result"
    }
   ],
   "source": [
    "A = torch.arange(25).reshape(5, 5)\n",
    "idx = [2,3]\n",
    "idy = [0,1,4]\n",
    "A[idx,...][...,idy]"
   ]
  },
  {
   "attachments": {},
   "cell_type": "markdown",
   "metadata": {},
   "source": [
    "### Problem 2.4\n",
    "\n",
    "Create a binary mask matrix `M` of the same shape as `A` where `M[i,j]` is True if and only if `A[i,j]` is divisible by 7. Let\n",
    "\n",
    "```\n",
    "A = torch.arange(25).reshape(5, 5)\n",
    "```\n",
    "\n",
    "Your answer should be \n",
    "\n",
    "```\n",
    "tensor([[ True, False, False, False, False],\n",
    "        [False, False,  True, False, False],\n",
    "        [False, False, False, False,  True],\n",
    "        [False, False, False, False, False],\n",
    "        [False,  True, False, False, False]])\n",
    "```\n",
    "\n",
    "---"
   ]
  },
  {
   "cell_type": "code",
   "execution_count": 130,
   "metadata": {
    "ExecuteTime": {
     "start_time": "2023-04-05T22:17:02.953399Z",
     "end_time": "2023-04-05T22:17:02.994394Z"
    }
   },
   "outputs": [
    {
     "data": {
      "text/plain": "tensor([[ True, False, False, False, False],\n        [False, False,  True, False, False],\n        [False, False, False, False,  True],\n        [False, False, False, False, False],\n        [False,  True, False, False, False]])"
     },
     "execution_count": 130,
     "metadata": {},
     "output_type": "execute_result"
    }
   ],
   "source": [
    "A = torch.arange(25).reshape(5, 5)\n",
    "A%7==0"
   ]
  },
  {
   "attachments": {},
   "cell_type": "markdown",
   "metadata": {},
   "source": [
    "### Problem 2.5\n",
    "\n",
    "Add one to the entries in `A` that are divisible by 7. After updating in place, `A` should be,\n",
    "\n",
    "```\n",
    "tensor([[ 1,  1,  2,  3,  4],\n",
    "        [ 5,  6,  8,  8,  9],\n",
    "        [10, 11, 12, 13, 15],\n",
    "        [15, 16, 17, 18, 19],\n",
    "        [20, 22, 22, 23, 24]])\n",
    "```\n",
    "\n",
    "---"
   ]
  },
  {
   "cell_type": "code",
   "execution_count": 143,
   "metadata": {
    "ExecuteTime": {
     "start_time": "2023-04-06T00:17:15.169209Z",
     "end_time": "2023-04-06T00:17:15.193606Z"
    }
   },
   "outputs": [
    {
     "data": {
      "text/plain": "tensor([[ 1,  1,  2,  3,  4],\n        [ 5,  6,  8,  8,  9],\n        [10, 11, 12, 13, 15],\n        [15, 16, 17, 18, 19],\n        [20, 22, 22, 23, 24]])"
     },
     "execution_count": 143,
     "metadata": {},
     "output_type": "execute_result"
    }
   ],
   "source": [
    "A[A%7==0]+=1\n",
    "A"
   ]
  },
  {
   "attachments": {},
   "cell_type": "markdown",
   "metadata": {},
   "source": [
    "## 3. Distributions\n",
    "\n",
    "PyTorch has an excellent library of distributions in `torch.distributions`. Read the docs [here](https://pytorch.org/docs/stable/distributions.html).\n",
    "\n",
    "We will use these distribution objects to construct and fit a Poisson mixture model."
   ]
  },
  {
   "attachments": {},
   "cell_type": "markdown",
   "metadata": {},
   "source": [
    "### Problem 3.1\n",
    "\n",
    "Draw 50 samples from a Poisson distribution with rate 10.\n",
    "\n",
    "---"
   ]
  },
  {
   "cell_type": "code",
   "execution_count": 17,
   "metadata": {
    "ExecuteTime": {
     "start_time": "2023-04-06T12:12:16.322943Z",
     "end_time": "2023-04-06T12:12:16.331537Z"
    }
   },
   "outputs": [
    {
     "data": {
      "text/plain": "tensor([14.,  9.,  6.,  9., 18.,  9.,  7., 10.,  6., 17.,  7.,  7.,  8., 11.,\n        14., 16.,  6., 11., 18.,  9., 10., 14., 15.,  5., 10.,  7.,  9., 12.,\n         8.,  7., 17.,  9., 12.,  8., 13.,  6., 12., 12.,  8., 12., 11., 10.,\n        16.,  6., 12., 11., 10.,  8.,  8., 11.])"
     },
     "execution_count": 17,
     "metadata": {},
     "output_type": "execute_result"
    }
   ],
   "source": [
    "lst = 10*torch.ones(50)\n",
    "torch.poisson(lst)"
   ]
  },
  {
   "attachments": {},
   "cell_type": "markdown",
   "metadata": {},
   "source": [
    "### Problem 3.2\n",
    "\n",
    "One of the awesome thing about PyTorch distributions is that they support broadcasting too. \n",
    "\n",
    "Construct a matrix `P` where `P[i,j]` equals $\\mathrm{Pois}(x=j; \\lambda=i)$ for $i=0,\\ldots,4$ and $j=0,\\ldots,4$.\n",
    "\n",
    "Your answer should be,\n",
    "```\n",
    "tensor([[1.0000, 0.0000, 0.0000, 0.0000, 0.0000],\n",
    "        [0.3679, 0.3679, 0.1839, 0.0613, 0.0153],\n",
    "        [0.1353, 0.2707, 0.2707, 0.1804, 0.0902],\n",
    "        [0.0498, 0.1494, 0.2240, 0.2240, 0.1680],\n",
    "        [0.0183, 0.0733, 0.1465, 0.1954, 0.1954]])\n",
    "```\n",
    "\n",
    "---"
   ]
  },
  {
   "cell_type": "code",
   "execution_count": 14,
   "metadata": {},
   "outputs": [],
   "source": [
    "# YOUR CODE HERE"
   ]
  },
  {
   "attachments": {},
   "cell_type": "markdown",
   "metadata": {},
   "source": [
    "### Problem 3.3\n",
    "\n",
    "Evaluate the log probability of the points `[1.5, 3., 4.2]` under a gamma distribution with shape (aka concentration) 2.0 and inverse scale (aka rate) 1.5.\n",
    "\n",
    "Your answer should be,\n",
    "\n",
    "```\n",
    "tensor([-1.0336, -2.5905, -4.0540])\n",
    "```\n",
    "\n",
    "---"
   ]
  },
  {
   "cell_type": "code",
   "execution_count": 15,
   "metadata": {},
   "outputs": [],
   "source": [
    "# YOUR CODE HERE"
   ]
  },
  {
   "attachments": {},
   "cell_type": "markdown",
   "metadata": {},
   "source": [
    "### Problem 3.4\n",
    "\n",
    "Draw 1000 samples from a Poisson mixture model,\n",
    "\n",
    "$$\n",
    "\\begin{align*}\n",
    "p(x) &= \\frac{1}{2} \\mathrm{Pois}(10.0) + \\frac{1}{2} \\mathrm{Pois}(2.0)\n",
    "\\end{align*}\n",
    "$$\n",
    "\n",
    "Use `matplotlib.pyplot.hist` to plot a normalized histogram of the samples.\n",
    "\n",
    "---"
   ]
  },
  {
   "cell_type": "code",
   "execution_count": 16,
   "metadata": {},
   "outputs": [],
   "source": [
    "# YOUR CODE HERE\n",
    "# data = ..."
   ]
  },
  {
   "attachments": {},
   "cell_type": "markdown",
   "metadata": {},
   "source": [
    "## 4. PyTorch Distributions"
   ]
  },
  {
   "attachments": {},
   "cell_type": "markdown",
   "metadata": {},
   "source": [
    "### Problem 4.1\n",
    "\n",
    "Use `dist.Normal` to draw a batch of shape `(100, 4)` independent standard normal random variables."
   ]
  },
  {
   "cell_type": "code",
   "execution_count": null,
   "metadata": {},
   "outputs": [],
   "source": [
    "# YOUR CODE HERE"
   ]
  },
  {
   "attachments": {},
   "cell_type": "markdown",
   "metadata": {},
   "source": [
    "### Problem 4.2\n",
    "\n",
    "Use `dist.Normal` to draw a batch independent normal random variables with shape `(5,5)`, variance 1.0, and means\n",
    "\n",
    "```\n",
    "tensor([[ 0,  1,  2,  3,  4],\n",
    "        [ 5,  6,  8,  8,  9],\n",
    "        [10, 11, 12, 13, 15],\n",
    "        [15, 16, 17, 18, 19],\n",
    "        [20, 22, 22, 23, 24]])\n",
    "```"
   ]
  },
  {
   "cell_type": "code",
   "execution_count": null,
   "metadata": {},
   "outputs": [],
   "source": [
    "# YOUR CODE HERE"
   ]
  }
 ],
 "metadata": {
  "kernelspec": {
   "display_name": "Python 3",
   "language": "python",
   "name": "python3"
  },
  "language_info": {
   "codemirror_mode": {
    "name": "ipython",
    "version": 3
   },
   "file_extension": ".py",
   "mimetype": "text/x-python",
   "name": "python",
   "nbconvert_exporter": "python",
   "pygments_lexer": "ipython3",
   "version": "3.7.11 (default, Jul 27 2021, 07:03:16) \n[Clang 10.0.0 ]"
  },
  "orig_nbformat": 4,
  "vscode": {
   "interpreter": {
    "hash": "5b28c5bd4ee93d765ebe901023d5522822fb8ad083dac3187c5545022f913719"
   }
  }
 },
 "nbformat": 4,
 "nbformat_minor": 2
}
